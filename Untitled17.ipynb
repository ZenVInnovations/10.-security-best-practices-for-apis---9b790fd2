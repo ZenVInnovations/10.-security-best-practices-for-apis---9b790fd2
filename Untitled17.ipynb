{
 "cells": [
  {
   "cell_type": "code",
   "execution_count": null,
   "metadata": {
    "executionInfo": {
     "elapsed": 5,
     "status": "ok",
     "timestamp": 1747217225774,
     "user": {
      "displayName": "Himanshi Agrawal",
      "userId": "12548303954803068024"
     },
     "user_tz": -330
    },
    "id": "cZ2kvF2EQwwn"
   },
   "outputs": [],
   "source": [
    "..# Simulating API behavior using functions\n",
    "\n",
    "# Sample user \"database\" for API key\n",
    "VALID_API_KEYS = {\"12345\": \"admin\", \"67890\": \"user\"}\n",
    "\n",
    "def simulate_api_request(endpoint, method, headers=None, payload=None):\n",
    "    print(f\"\\n[Request to: {endpoint} | Method: {method}]\")\n",
    "    if headers is None:\n",
    "        headers = {}\n",
    "    if payload is None:\n",
    "        payload = {}\n",
    "\n",
    "    # Authentication\n",
    "    api_key = headers.get(\"x-api-key\")\n",
    "    if not api_key or api_key not in VALID_API_KEYS:\n",
    "        return {\"status\": 401, \"error\": \"Unauthorized\"}\n",
    "\n",
    "    # Routing simulation\n",
    "    if endpoint == \"/data\" and method == \"POST\":\n",
    "        return handle_data(payload)\n",
    "    elif endpoint == \"/validate\" and method == \"POST\":\n",
    "        return handle_validation(payload)\n",
    "    elif endpoint == \"/rate-limit\" and method == \"GET\":\n",
    "        return rate_limited_endpoint(api_key)\n",
    "    else:\n",
    "        return {\"status\": 404, \"error\": \"Endpoint not found\"}\n"
   ]
  },
  {
   "cell_type": "code",
   "execution_count": 7,
   "metadata": {
    "executionInfo": {
     "elapsed": 5,
     "status": "ok",
     "timestamp": 1747217262805,
     "user": {
      "displayName": "Himanshi Agrawal",
      "userId": "12548303954803068024"
     },
     "user_tz": -330
    },
    "id": "gxGWGuzbQ2Lt"
   },
   "outputs": [],
   "source": [
    "def handle_data(payload):\n",
    "    return {\"status\": 200, \"message\": f\"Secure data received: {payload}\"}\n"
   ]
  },
  {
   "cell_type": "code",
   "execution_count": 2,
   "metadata": {
    "executionInfo": {
     "elapsed": 37,
     "status": "ok",
     "timestamp": 1747217363337,
     "user": {
      "displayName": "Himanshi Agrawal",
      "userId": "12548303954803068024"
     },
     "user_tz": -330
    },
    "id": "zSZ_3H4sRO_d"
   },
   "outputs": [],
   "source": [
    "def handle_validation(payload):\n",
    "    if not isinstance(payload, dict):\n",
    "        return {\"status\": 400, \"error\": \"Invalid JSON format\"}\n",
    "    if \"name\" not in payload:\n",
    "        return {\"status\": 400, \"error\": \"Missing 'name' field\"}\n",
    "    if not isinstance(payload[\"name\"], str) or len(payload[\"name\"]) > 50:\n",
    "        return {\"status\": 400, \"error\": \"Invalid 'name' value\"}\n",
    "    return {\"status\": 200, \"message\": f\"Hello, {payload['name']}!\"}\n"
   ]
  },
  {
   "cell_type": "code",
   "execution_count": 5,
   "metadata": {
    "executionInfo": {
     "elapsed": 3,
     "status": "ok",
     "timestamp": 1747217745610,
     "user": {
      "displayName": "Himanshi Agrawal",
      "userId": "12548303954803068024"
     },
     "user_tz": -330
    },
    "id": "Dj55B4GXSu6u"
   },
   "outputs": [],
   "source": [
    "import time\n",
    "from collections import defaultdict\n",
    "\n",
    "# Tracks number of calls per API key\n",
    "rate_limit_store = defaultdict(list)\n",
    "\n",
    "def rate_limited_endpoint(api_key, max_calls=2, window_seconds=60):\n",
    "    now = time.time()\n",
    "    rate_limit_store[api_key] = [t for t in rate_limit_store[api_key] if now - t < window_seconds]\n",
    "    if len(rate_limit_store[api_key]) >= max_calls:\n",
    "        return {\"status\": 429, \"error\": \"Rate limit exceeded\"}\n",
    "    rate_limit_store[api_key].append(now)\n",
    "    return {\"status\": 200, \"message\": \"Access granted\"}\n"
   ]
  },
  {
   "cell_type": "code",
   "execution_count": null,
   "metadata": {
    "colab": {
     "base_uri": "https://localhost:8080/"
    },
    "executionInfo": {
     "elapsed": 11,
     "status": "ok",
     "timestamp": 1747217773418,
     "user": {
      "displayName": "Himanshi Agrawal",
      "userId": "12548303954803068024"
     },
     "user_tz": -330
    },
    "id": "nDVh63eGSzlD",
    "outputId": "9386ea26-ee16-4ef5-a97c-67c132e1f172"
   },
   "outputs": [
    {
     "name": "stdout",
     "output_type": "stream",
     "text": [
      "\n",
      "[Request to: /data | Method: POST]\n",
      "{'status': 401, 'error': 'Unauthorized'}\n",
      "\n",
      "[Request to: /validate | Method: POST]\n",
      "{'status': 200, 'message': 'Hello, Alice!'}\n",
      "\n",
      "[Request to: /validate | Method: POST]\n",
      "{'status': 400, 'error': \"Missing 'name' field\"}\n",
      "\n",
      "[Request to: /rate-limit | Method: GET]\n",
      "Attempt 1: {'status': 200, 'message': 'Access granted'}\n",
      "\n",
      "[Request to: /rate-limit | Method: GET]\n",
      "Attempt 2: {'status': 200, 'message': 'Access granted'}\n",
      "\n",
      "[Request to: /rate-limit | Method: GET]\n",
      "Attempt 3: {'status': 429, 'error': 'Rate limit exceeded'}\n",
      "\n",
      "[Request to: /rate-limit | Method: GET]\n",
      "Attempt 4: {'status': 429, 'error': 'Rate limit exceeded'}\n"
     ]
    }
   ],
   "source": [
    "# Test with no API key\n",
    "response = simulate_api_request(\"/data\", \"POST\", headers={}, payload={\"data\": 123})\n",
    "print(response)\n",
    "\n",
    "# Test with valid API key and valid payload\n",
    "response = simulate_api_request(\"/validate\", \"POST\", headers={\"x-api-key\": \"12345\"}, payload={\"name\": \"Alice\"})\n",
    "print(response)\n",
    "\n",
    "# Test with invalid payload\n",
    "response = simulate_api_request(\"/validate\", \"POST\", headers={\"x-api-key\": \"12345\"}, payload={\"username\": \"Alice\"})\n",
    "print(response)\n",
    "\n",
    "# Test rate limiting\n",
    "for i in range(4):\n",
    "    response = simulate_api_request(\"/rate-limit\", \"GET\", headers={\"x-api-key\": \"67890\"})\n",
    "    print(f\"Attempt {i+1}: {response}\")\n"
   ]
  },
  {
   "cell_type": "code",
   "execution_count": null,
   "metadata": {
    "id": "hwzhCMl9S6Jq"
   },
   "outputs": [],
   "source": []
  }
 ],
 "metadata": {
  "colab": {
   "authorship_tag": "ABX9TyOYEPqQKdB4xd7Dok3jFv/f",
   "provenance": []
  },
  "kernelspec": {
   "display_name": "base",
   "language": "python",
   "name": "python3"
  },
  "language_info": {
   "codemirror_mode": {
    "name": "ipython",
    "version": 3
   },
   "file_extension": ".py",
   "mimetype": "text/x-python",
   "name": "python",
   "nbconvert_exporter": "python",
   "pygments_lexer": "ipython3",
   "version": "3.12.4"
  }
 },
 "nbformat": 4,
 "nbformat_minor": 0
}
